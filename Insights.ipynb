{
 "cells": [
  {
   "cell_type": "code",
   "execution_count": 44,
   "metadata": {},
   "outputs": [],
   "source": [
    "import pandas as pd\n",
    "pd.set_option('display.max_rows', 500)\n",
    "pd.set_option('display.max_columns', None)\n",
    "data = pd.read_parquet('files/2023 DE_case_dataset.gz.parquet')"
   ]
  },
  {
   "cell_type": "code",
   "execution_count": 17,
   "metadata": {},
   "outputs": [
    {
     "data": {
      "text/plain": [
       "(20000, 18)"
      ]
     },
     "execution_count": 17,
     "metadata": {},
     "output_type": "execute_result"
    }
   ],
   "source": [
    "# data volume: 20000 rows * 19 columns\n",
    "data.shape"
   ]
  },
  {
   "cell_type": "code",
   "execution_count": 18,
   "metadata": {},
   "outputs": [
    {
     "data": {
      "text/plain": [
       "created                 20000\n",
       "updated                 20000\n",
       "queued                  20000\n",
       "geometric_heuristics    19961\n",
       "holes                   10211\n",
       "job_run_time            19961\n",
       "latheability            17503\n",
       "machining_directions    19938\n",
       "multipart               19938\n",
       "neighbors               19938\n",
       "poles                    1877\n",
       "sheet_like_shape        14685\n",
       "unmachinable_edges      19097\n",
       "extrusion_height          323\n",
       "units                   20000\n",
       "status                  20000\n",
       "time                    20000\n",
       "uuid                    20000\n",
       "dtype: int64"
      ]
     },
     "execution_count": 18,
     "metadata": {},
     "output_type": "execute_result"
    }
   ],
   "source": [
    "# count of non-null values in each column\n",
    "data.notnull().sum()"
   ]
  },
  {
   "cell_type": "code",
   "execution_count": 12,
   "metadata": {},
   "outputs": [
    {
     "data": {
      "text/plain": [
       "(20000, 18)"
      ]
     },
     "execution_count": 12,
     "metadata": {},
     "output_type": "execute_result"
    }
   ],
   "source": [
    "#what type of data are we dealing with:\n",
    "data.dtypes\n",
    "\n",
    "# date columns are parsed as string (should be datetime) and the rest is considered string too"
   ]
  },
  {
   "cell_type": "code",
   "execution_count": 19,
   "metadata": {},
   "outputs": [
    {
     "data": {
      "text/html": [
       "<div>\n",
       "<style scoped>\n",
       "    .dataframe tbody tr th:only-of-type {\n",
       "        vertical-align: middle;\n",
       "    }\n",
       "\n",
       "    .dataframe tbody tr th {\n",
       "        vertical-align: top;\n",
       "    }\n",
       "\n",
       "    .dataframe thead th {\n",
       "        text-align: right;\n",
       "    }\n",
       "</style>\n",
       "<table border=\"1\" class=\"dataframe\">\n",
       "  <thead>\n",
       "    <tr style=\"text-align: right;\">\n",
       "      <th></th>\n",
       "      <th>created</th>\n",
       "      <th>updated</th>\n",
       "      <th>queued</th>\n",
       "      <th>geometric_heuristics</th>\n",
       "      <th>holes</th>\n",
       "      <th>job_run_time</th>\n",
       "      <th>latheability</th>\n",
       "      <th>machining_directions</th>\n",
       "      <th>multipart</th>\n",
       "      <th>neighbors</th>\n",
       "      <th>poles</th>\n",
       "      <th>sheet_like_shape</th>\n",
       "      <th>unmachinable_edges</th>\n",
       "      <th>extrusion_height</th>\n",
       "      <th>units</th>\n",
       "      <th>status</th>\n",
       "      <th>time</th>\n",
       "      <th>uuid</th>\n",
       "    </tr>\n",
       "  </thead>\n",
       "  <tbody>\n",
       "    <tr>\n",
       "      <th>0</th>\n",
       "      <td>2020-02-15 22:46:41</td>\n",
       "      <td>2020-02-15 22:47:00</td>\n",
       "      <td>2020-02-15 22:46:42</td>\n",
       "      <td>{\"unit\":\"milliseconds\",\"value\":56}</td>\n",
       "      <td>&lt;NA&gt;</td>\n",
       "      <td>{\"unit\":\"milliseconds\",\"value\":7491}</td>\n",
       "      <td>{\"axis\":{\"x\":1,\"y\":0,\"z\":0},\"fraction\":0.84588...</td>\n",
       "      <td>{\"box_volume\":{\"unit\":\"mm3\",\"value\":15590.8676...</td>\n",
       "      <td>{\"multibody\":false,\"patches\":{\"count\":1,\"not_t...</td>\n",
       "      <td>{\"unit\":\"mm3\",\"value\":[8576,6425,3703,762,24,0...</td>\n",
       "      <td>&lt;NA&gt;</td>\n",
       "      <td>&lt;NA&gt;</td>\n",
       "      <td>{\"count\":1469,\"edge_list_url\":\"s3://3dhubs-pro...</td>\n",
       "      <td>NaN</td>\n",
       "      <td>mm</td>\n",
       "      <td>completed</td>\n",
       "      <td>7547</td>\n",
       "      <td>92fe59e7-eae0-4ba9-bf74-22a82f2c2c83</td>\n",
       "    </tr>\n",
       "    <tr>\n",
       "      <th>1</th>\n",
       "      <td>2020-05-13 14:17:10</td>\n",
       "      <td>2020-05-13 14:17:11</td>\n",
       "      <td>2020-05-13 14:17:10</td>\n",
       "      <td>{\"unit\":\"milliseconds\",\"value\":44}</td>\n",
       "      <td>&lt;NA&gt;</td>\n",
       "      <td>{\"unit\":\"milliseconds\",\"value\":1143}</td>\n",
       "      <td>{\"axis\":{\"x\":0,\"y\":0,\"z\":1},\"fraction\":0.84486...</td>\n",
       "      <td>{\"box_volume\":{\"unit\":\"mm3\",\"value\":6241.536},...</td>\n",
       "      <td>{\"multibody\":false,\"patches\":{\"count\":1,\"not_t...</td>\n",
       "      <td>{\"unit\":\"mm3\",\"value\":[374,4058,0,0,28,68,0]}</td>\n",
       "      <td>&lt;NA&gt;</td>\n",
       "      <td>{\"detected\":true,\"positive_fraction_of_samples...</td>\n",
       "      <td>{\"count\":0,\"edge_list_url\":\"s3://3dhubs-produc...</td>\n",
       "      <td>NaN</td>\n",
       "      <td>mm</td>\n",
       "      <td>completed</td>\n",
       "      <td>1187</td>\n",
       "      <td>0dd8b940-6b35-4ed5-a981-ce05e0734b4f</td>\n",
       "    </tr>\n",
       "    <tr>\n",
       "      <th>2</th>\n",
       "      <td>2022-02-16 16:27:18</td>\n",
       "      <td>2022-02-16 16:27:19</td>\n",
       "      <td>2022-02-16 16:27:18</td>\n",
       "      <td>{\"unit\":\"milliseconds\",\"value\":67}</td>\n",
       "      <td>[{\"center\":{\"x\":4.254160968e-24,\"y\":8.73124980...</td>\n",
       "      <td>{\"unit\":\"milliseconds\",\"value\":1161}</td>\n",
       "      <td>{\"axis\":{\"x\":0,\"y\":1,\"z\":0},\"fraction\":1,\"orig...</td>\n",
       "      <td>{\"box_volume\":{\"unit\":\"mm3\",\"value\":10455.28},...</td>\n",
       "      <td>{\"multibody\":false,\"patches\":{\"count\":1,\"not_t...</td>\n",
       "      <td>{\"unit\":\"mm3\",\"value\":[591,2421,2404,1524,1009...</td>\n",
       "      <td>&lt;NA&gt;</td>\n",
       "      <td>{\"detected\":true,\"positive_fraction_of_samples...</td>\n",
       "      <td>{\"count\":0,\"edge_list_url\":\"s3://3dhubs-produc...</td>\n",
       "      <td>NaN</td>\n",
       "      <td>mm</td>\n",
       "      <td>completed</td>\n",
       "      <td>1228.0</td>\n",
       "      <td>9691095c-d562-4bda-813f-7dbe7398d686</td>\n",
       "    </tr>\n",
       "    <tr>\n",
       "      <th>3</th>\n",
       "      <td>2021-05-17 16:42:08</td>\n",
       "      <td>2021-05-17 16:42:10</td>\n",
       "      <td>2021-05-17 16:42:08</td>\n",
       "      <td>{\"unit\":\"milliseconds\",\"value\":57}</td>\n",
       "      <td>[{\"center\":{\"x\":0,\"y\":0,\"z\":28.8500003815},\"di...</td>\n",
       "      <td>{\"unit\":\"milliseconds\",\"value\":1910}</td>\n",
       "      <td>{\"axis\":{\"x\":0,\"y\":0,\"z\":1},\"fraction\":0.88210...</td>\n",
       "      <td>{\"box_volume\":{\"unit\":\"mm3\",\"value\":26218.712}...</td>\n",
       "      <td>{\"multibody\":false,\"patches\":{\"count\":1,\"not_t...</td>\n",
       "      <td>{\"unit\":\"mm3\",\"value\":[3588,8766,4560,516,780,...</td>\n",
       "      <td>[{\"center\":{\"x\":-2.782968637e-24,\"y\":-2.782968...</td>\n",
       "      <td>{\"detected\":false,\"positive_fraction_of_sample...</td>\n",
       "      <td>{\"count\":0,\"edge_list_url\":\"s3://3dhubs-produc...</td>\n",
       "      <td>NaN</td>\n",
       "      <td>mm</td>\n",
       "      <td>completed</td>\n",
       "      <td>1967</td>\n",
       "      <td>66102ac6-37a3-45b7-97dd-56d02b6ac651</td>\n",
       "    </tr>\n",
       "    <tr>\n",
       "      <th>4</th>\n",
       "      <td>2019-11-01 05:34:37</td>\n",
       "      <td>2019-11-01 05:34:43</td>\n",
       "      <td>2019-11-01 05:34:37</td>\n",
       "      <td>{\"unit\":\"milliseconds\",\"value\":75}</td>\n",
       "      <td>&lt;NA&gt;</td>\n",
       "      <td>{\"unit\":\"milliseconds\",\"value\":5949}</td>\n",
       "      <td>{\"axis\":{\"x\":1,\"y\":0,\"z\":0},\"fraction\":0.93670...</td>\n",
       "      <td>{\"box_volume\":{\"unit\":\"mm3\",\"value\":184171.806...</td>\n",
       "      <td>{\"multibody\":false,\"patches\":{\"count\":1,\"not_t...</td>\n",
       "      <td>{\"unit\":\"mm3\",\"value\":[91270,55336,40349,10925...</td>\n",
       "      <td>&lt;NA&gt;</td>\n",
       "      <td>&lt;NA&gt;</td>\n",
       "      <td>{\"count\":0,\"edge_list_url\":\"s3://3dhubs-produc...</td>\n",
       "      <td>NaN</td>\n",
       "      <td>mm</td>\n",
       "      <td>completed</td>\n",
       "      <td>6024</td>\n",
       "      <td>2c9d084c-dd69-4aff-8b85-a50d0f657372</td>\n",
       "    </tr>\n",
       "    <tr>\n",
       "      <th>5</th>\n",
       "      <td>2020-06-26 04:06:49</td>\n",
       "      <td>2020-06-26 04:07:22</td>\n",
       "      <td>2020-06-26 04:06:49</td>\n",
       "      <td>{\"unit\":\"milliseconds\",\"value\":179}</td>\n",
       "      <td>&lt;NA&gt;</td>\n",
       "      <td>{\"unit\":\"milliseconds\",\"value\":32708}</td>\n",
       "      <td>{\"axis\":{\"x\":0,\"y\":1,\"z\":0},\"fraction\":0.32620...</td>\n",
       "      <td>{\"box_volume\":{\"unit\":\"mm3\",\"value\":278910.820...</td>\n",
       "      <td>{\"multibody\":false,\"patches\":{\"count\":1,\"not_t...</td>\n",
       "      <td>{\"unit\":\"mm3\",\"value\":[20829,28983,11842,1107,...</td>\n",
       "      <td>&lt;NA&gt;</td>\n",
       "      <td>{\"detected\":false,\"positive_fraction_of_sample...</td>\n",
       "      <td>{\"count\":0,\"edge_list_url\":\"s3://3dhubs-produc...</td>\n",
       "      <td>NaN</td>\n",
       "      <td>mm</td>\n",
       "      <td>completed</td>\n",
       "      <td>32887</td>\n",
       "      <td>08808a1c-8284-4669-b9a4-101ccba63321</td>\n",
       "    </tr>\n",
       "  </tbody>\n",
       "</table>\n",
       "</div>"
      ],
      "text/plain": [
       "               created              updated               queued  \\\n",
       "0  2020-02-15 22:46:41  2020-02-15 22:47:00  2020-02-15 22:46:42   \n",
       "1  2020-05-13 14:17:10  2020-05-13 14:17:11  2020-05-13 14:17:10   \n",
       "2  2022-02-16 16:27:18  2022-02-16 16:27:19  2022-02-16 16:27:18   \n",
       "3  2021-05-17 16:42:08  2021-05-17 16:42:10  2021-05-17 16:42:08   \n",
       "4  2019-11-01 05:34:37  2019-11-01 05:34:43  2019-11-01 05:34:37   \n",
       "5  2020-06-26 04:06:49  2020-06-26 04:07:22  2020-06-26 04:06:49   \n",
       "\n",
       "                  geometric_heuristics  \\\n",
       "0   {\"unit\":\"milliseconds\",\"value\":56}   \n",
       "1   {\"unit\":\"milliseconds\",\"value\":44}   \n",
       "2   {\"unit\":\"milliseconds\",\"value\":67}   \n",
       "3   {\"unit\":\"milliseconds\",\"value\":57}   \n",
       "4   {\"unit\":\"milliseconds\",\"value\":75}   \n",
       "5  {\"unit\":\"milliseconds\",\"value\":179}   \n",
       "\n",
       "                                               holes  \\\n",
       "0                                               <NA>   \n",
       "1                                               <NA>   \n",
       "2  [{\"center\":{\"x\":4.254160968e-24,\"y\":8.73124980...   \n",
       "3  [{\"center\":{\"x\":0,\"y\":0,\"z\":28.8500003815},\"di...   \n",
       "4                                               <NA>   \n",
       "5                                               <NA>   \n",
       "\n",
       "                            job_run_time  \\\n",
       "0   {\"unit\":\"milliseconds\",\"value\":7491}   \n",
       "1   {\"unit\":\"milliseconds\",\"value\":1143}   \n",
       "2   {\"unit\":\"milliseconds\",\"value\":1161}   \n",
       "3   {\"unit\":\"milliseconds\",\"value\":1910}   \n",
       "4   {\"unit\":\"milliseconds\",\"value\":5949}   \n",
       "5  {\"unit\":\"milliseconds\",\"value\":32708}   \n",
       "\n",
       "                                        latheability  \\\n",
       "0  {\"axis\":{\"x\":1,\"y\":0,\"z\":0},\"fraction\":0.84588...   \n",
       "1  {\"axis\":{\"x\":0,\"y\":0,\"z\":1},\"fraction\":0.84486...   \n",
       "2  {\"axis\":{\"x\":0,\"y\":1,\"z\":0},\"fraction\":1,\"orig...   \n",
       "3  {\"axis\":{\"x\":0,\"y\":0,\"z\":1},\"fraction\":0.88210...   \n",
       "4  {\"axis\":{\"x\":1,\"y\":0,\"z\":0},\"fraction\":0.93670...   \n",
       "5  {\"axis\":{\"x\":0,\"y\":1,\"z\":0},\"fraction\":0.32620...   \n",
       "\n",
       "                                machining_directions  \\\n",
       "0  {\"box_volume\":{\"unit\":\"mm3\",\"value\":15590.8676...   \n",
       "1  {\"box_volume\":{\"unit\":\"mm3\",\"value\":6241.536},...   \n",
       "2  {\"box_volume\":{\"unit\":\"mm3\",\"value\":10455.28},...   \n",
       "3  {\"box_volume\":{\"unit\":\"mm3\",\"value\":26218.712}...   \n",
       "4  {\"box_volume\":{\"unit\":\"mm3\",\"value\":184171.806...   \n",
       "5  {\"box_volume\":{\"unit\":\"mm3\",\"value\":278910.820...   \n",
       "\n",
       "                                           multipart  \\\n",
       "0  {\"multibody\":false,\"patches\":{\"count\":1,\"not_t...   \n",
       "1  {\"multibody\":false,\"patches\":{\"count\":1,\"not_t...   \n",
       "2  {\"multibody\":false,\"patches\":{\"count\":1,\"not_t...   \n",
       "3  {\"multibody\":false,\"patches\":{\"count\":1,\"not_t...   \n",
       "4  {\"multibody\":false,\"patches\":{\"count\":1,\"not_t...   \n",
       "5  {\"multibody\":false,\"patches\":{\"count\":1,\"not_t...   \n",
       "\n",
       "                                           neighbors  \\\n",
       "0  {\"unit\":\"mm3\",\"value\":[8576,6425,3703,762,24,0...   \n",
       "1      {\"unit\":\"mm3\",\"value\":[374,4058,0,0,28,68,0]}   \n",
       "2  {\"unit\":\"mm3\",\"value\":[591,2421,2404,1524,1009...   \n",
       "3  {\"unit\":\"mm3\",\"value\":[3588,8766,4560,516,780,...   \n",
       "4  {\"unit\":\"mm3\",\"value\":[91270,55336,40349,10925...   \n",
       "5  {\"unit\":\"mm3\",\"value\":[20829,28983,11842,1107,...   \n",
       "\n",
       "                                               poles  \\\n",
       "0                                               <NA>   \n",
       "1                                               <NA>   \n",
       "2                                               <NA>   \n",
       "3  [{\"center\":{\"x\":-2.782968637e-24,\"y\":-2.782968...   \n",
       "4                                               <NA>   \n",
       "5                                               <NA>   \n",
       "\n",
       "                                    sheet_like_shape  \\\n",
       "0                                               <NA>   \n",
       "1  {\"detected\":true,\"positive_fraction_of_samples...   \n",
       "2  {\"detected\":true,\"positive_fraction_of_samples...   \n",
       "3  {\"detected\":false,\"positive_fraction_of_sample...   \n",
       "4                                               <NA>   \n",
       "5  {\"detected\":false,\"positive_fraction_of_sample...   \n",
       "\n",
       "                                  unmachinable_edges  extrusion_height units  \\\n",
       "0  {\"count\":1469,\"edge_list_url\":\"s3://3dhubs-pro...               NaN    mm   \n",
       "1  {\"count\":0,\"edge_list_url\":\"s3://3dhubs-produc...               NaN    mm   \n",
       "2  {\"count\":0,\"edge_list_url\":\"s3://3dhubs-produc...               NaN    mm   \n",
       "3  {\"count\":0,\"edge_list_url\":\"s3://3dhubs-produc...               NaN    mm   \n",
       "4  {\"count\":0,\"edge_list_url\":\"s3://3dhubs-produc...               NaN    mm   \n",
       "5  {\"count\":0,\"edge_list_url\":\"s3://3dhubs-produc...               NaN    mm   \n",
       "\n",
       "      status    time                                  uuid  \n",
       "0  completed    7547  92fe59e7-eae0-4ba9-bf74-22a82f2c2c83  \n",
       "1  completed    1187  0dd8b940-6b35-4ed5-a981-ce05e0734b4f  \n",
       "2  completed  1228.0  9691095c-d562-4bda-813f-7dbe7398d686  \n",
       "3  completed    1967  66102ac6-37a3-45b7-97dd-56d02b6ac651  \n",
       "4  completed    6024  2c9d084c-dd69-4aff-8b85-a50d0f657372  \n",
       "5  completed   32887  08808a1c-8284-4669-b9a4-101ccba63321  "
      ]
     },
     "execution_count": 19,
     "metadata": {},
     "output_type": "execute_result"
    }
   ],
   "source": [
    "#check the first 5 rows to see data\n",
    "data.loc[0:5]"
   ]
  },
  {
   "cell_type": "code",
   "execution_count": 45,
   "metadata": {},
   "outputs": [
    {
     "name": "stdout",
     "output_type": "stream",
     "text": [
      "created \n",
      " 2021-05-17 16:42:08 \n",
      "\n",
      "updated \n",
      " 2021-05-17 16:42:10 \n",
      "\n",
      "queued \n",
      " 2021-05-17 16:42:08 \n",
      "\n",
      "geometric_heuristics \n",
      " {\"unit\":\"milliseconds\",\"value\":57} \n",
      "\n",
      "holes \n",
      " [{\"center\":{\"x\":0,\"y\":0,\"z\":28.8500003815},\"direction\":{\"x\":-2.977975821e-19,\"y\":-1.990346847e-19,\"z\":1},\"end1\":{\"closed\":false,\"reachable\":true},\"end2\":{\"closed\":false,\"reachable\":true},\"facet_count\":null,\"length\":57.7000007629,\"radius\":3.2999999523}] \n",
      "\n",
      "job_run_time \n",
      " {\"unit\":\"milliseconds\",\"value\":1910} \n",
      "\n",
      "latheability \n",
      " {\"axis\":{\"x\":0,\"y\":0,\"z\":1},\"fraction\":0.8821019447,\"origin\":{\"x\":0,\"y\":0,\"z\":0}} \n",
      "\n",
      "machining_directions \n",
      " {\"box_volume\":{\"unit\":\"mm3\",\"value\":26218.712},\"direction_removable_volume\":{\"unit\":\"mm3\",\"value\":[8200.6383333333,8200.5983333333,7383.8083333333,7383.8563333333,11782.6965,7333.6788333333]},\"is_machinable\":true,\"selected_directions\":[false,false,false,false,true,true],\"unmachinable_volume\":{\"unit\":\"mm3\",\"value\":0},\"unmachinable_volume_url\":\"s3://3dhubs-production-model-repository/machining_pricing/f382b15c-c4a2-4550-ab8b-a58905da238e-cnc-unmachinable-volume.stl\"} \n",
      "\n",
      "multipart \n",
      " {\"multibody\":false,\"patches\":{\"count\":1,\"not_tiny_count\":null}} \n",
      "\n",
      "neighbors \n",
      " {\"unit\":\"mm3\",\"value\":[3588,8766,4560,516,780,32,0]} \n",
      "\n",
      "poles \n",
      " [{\"center\":{\"x\":-2.782968637e-24,\"y\":-2.782968637e-24,\"z\":12.6999998093},\"direction\":{\"x\":2.061621065e-20,\"y\":5.290784016e-19,\"z\":-1},\"end\":{\"closed\":true,\"reachable\":true},\"facet_count\":null,\"length\":25.3999996185,\"radius\":6.8000001907}] \n",
      "\n",
      "sheet_like_shape \n",
      " {\"detected\":false,\"positive_fraction_of_samples\":0.0228,\"thickness\":{\"unit\":\"mm\",\"value\":0}} \n",
      "\n",
      "unmachinable_edges \n",
      " {\"count\":0,\"edge_list_url\":\"s3://3dhubs-production-model-repository/machining_pricing/f382b15c-c4a2-4550-ab8b-a58905da238e-unmachinable_edges.stl\",\"length\":0} \n",
      "\n",
      "extrusion_height \n",
      " nan \n",
      "\n",
      "units \n",
      " mm \n",
      "\n",
      "status \n",
      " completed \n",
      "\n",
      "time \n",
      " 1967 \n",
      "\n",
      "uuid \n",
      " 66102ac6-37a3-45b7-97dd-56d02b6ac651 \n",
      "\n"
     ]
    }
   ],
   "source": [
    "# see the example data from a data point where holes info is available (meaning the part has hole/s): \n",
    "# row #3\n",
    "for i in data.columns:\n",
    "    print(i, \"\\n\", data.iloc[3][i], \"\\n\")"
   ]
  },
  {
   "cell_type": "code",
   "execution_count": 57,
   "metadata": {},
   "outputs": [
    {
     "name": "stdout",
     "output_type": "stream",
     "text": [
      "The number of parts with a hole represents 51.05499999999999 % of the total sample\n"
     ]
    }
   ],
   "source": [
    "# Basic Insights of holes'data\n",
    "print('The number of parts with a hole represents' , \\\n",
    "      data['holes'].notna().sum()/data.shape[0]*100, \\\n",
    "      \"% of the total sample\")"
   ]
  },
  {
   "cell_type": "code",
   "execution_count": 76,
   "metadata": {},
   "outputs": [
    {
     "name": "stdout",
     "output_type": "stream",
     "text": [
      "The average numbers of holes per part is: 13.222505141514054\n"
     ]
    }
   ],
   "source": [
    "#out of the total parts with holes, what is the average number of holes?\n",
    "notna_holes = data[[\"holes\"]].notna().sum()\n",
    "\n",
    "total_holes = data[data[\"holes\"].notna()]['holes'].str.count('center').sum() \n",
    "\n",
    "print(\"The average numbers of holes per part is:\", total_holes/notna_holes[0])"
   ]
  },
  {
   "cell_type": "code",
   "execution_count": 89,
   "metadata": {},
   "outputs": [
    {
     "name": "stdout",
     "output_type": "stream",
     "text": [
      "The number of failed jobs on parts that have a hole is 0\n"
     ]
    }
   ],
   "source": [
    "# out of total parts with a hole, how many of them failed\n",
    "print(\"The number of failed jobs on parts that have a hole is\", data[(data['status']=='failed') & (data[\"holes\"].notna())]['holes'].count())"
   ]
  }
 ],
 "metadata": {
  "kernelspec": {
   "display_name": "ab_hubs",
   "language": "python",
   "name": "python3"
  },
  "language_info": {
   "codemirror_mode": {
    "name": "ipython",
    "version": 3
   },
   "file_extension": ".py",
   "mimetype": "text/x-python",
   "name": "python",
   "nbconvert_exporter": "python",
   "pygments_lexer": "ipython3",
   "version": "3.10.9"
  },
  "orig_nbformat": 4,
  "vscode": {
   "interpreter": {
    "hash": "759fb1153d37d013759bfa146f9d10a7b4feb189aa1772408328bdb664aa4b4a"
   }
  }
 },
 "nbformat": 4,
 "nbformat_minor": 2
}
